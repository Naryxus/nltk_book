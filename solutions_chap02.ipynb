{
 "cells": [
  {
   "cell_type": "markdown",
   "metadata": {},
   "source": [
    "# Solutions for Chapter 2"
   ]
  },
  {
   "cell_type": "markdown",
   "metadata": {},
   "source": [
    "## Initialization"
   ]
  },
  {
   "cell_type": "code",
   "execution_count": 6,
   "metadata": {},
   "outputs": [],
   "source": [
    "import nltk\n",
    "from nltk.book import *\n",
    "from nltk.corpus import gutenberg\n",
    "%matplotlib inline"
   ]
  },
  {
   "cell_type": "markdown",
   "metadata": {},
   "source": [
    "## Exercise 1\n",
    "In this exercise we inspect some list operations.\n",
    "\n",
    "```python\n",
    "my_list[n:m]``` \n",
    "This is the slicing operator of a list. It can be used to extract the sublist of the given list, that starts on position ```n``` (inlusive) and ends on position ```m``` (exclusive).\n",
    "\n",
    "```python\n",
    "my_list1 + my_list2```\n",
    "This is the concatenation operator, that appends the list items of the second list at the end of the first list.\n",
    "\n",
    "```python\n",
    "my_list * n```\n",
    "This is the repetition operator, that creates a list, that contains the list items of the given list ```n``` times in tandem.\n",
    "\n",
    "```python\n",
    "sorted(my_list)```\n",
    "This is the sort operation, that returns a list containing the list items of the given list in increasing order depending on the data type of the items."
   ]
  },
  {
   "cell_type": "code",
   "execution_count": 5,
   "metadata": {},
   "outputs": [
    {
     "name": "stdout",
     "output_type": "stream",
     "text": [
      "phrase = ['This', 'is', 'a', 'phrase', 'containing', 'some', 'words']\n",
      "phrase[:3] + phrase[3:] = ['This', 'is', 'a', 'phrase', 'containing', 'some', 'words']\n",
      "phrase[2:4] * 5 = ['a', 'phrase', 'a', 'phrase', 'a', 'phrase', 'a', 'phrase', 'a', 'phrase']\n",
      "sorted(phrase) = ['This', 'a', 'containing', 'is', 'phrase', 'some', 'words']\n"
     ]
    }
   ],
   "source": [
    "phrase = ['This', 'is', 'a', 'phrase', 'containing', 'some', 'words']\n",
    "\n",
    "print('phrase = ' + str(phrase))\n",
    "\n",
    "pos = 3\n",
    "print('phrase[:' + str(pos) + '] + phrase[' + str(pos) + ':] = ' + str(phrase[:pos] + phrase[pos:]))\n",
    "\n",
    "n = 5\n",
    "print('phrase[2:4] * ' + str(n) + ' = ' + str(phrase[2:4] * n))\n",
    "\n",
    "print('sorted(phrase) = ' + str(sorted(phrase)))"
   ]
  },
  {
   "cell_type": "markdown",
   "metadata": {},
   "source": [
    "## Exercise 2\n",
    "The corpora of nltk can be accessed via\n",
    "```python\n",
    "nltk.corpus.corpus_name```\n",
    "For more readable code and to discharge the developer, we can use the following expression in the import section:\n",
    "```python\n",
    "from nltk.corpus import corpus_name```\n",
    "Thus we don't need to type the fully access expression, but only ```corpus_name``` to access the corpus.\n",
    "Most of the corpora contain multiple texts, that can be accessed via a file id. We can use the\n",
    "```python\n",
    "corpus_name.words()```\n",
    "method to access the words of the corpus. We can also pass a file id to this method to obtain the words of the text associated with the given file id.\n",
    "The number of word tokens is then the length of the resulting list, which we get by calling\n",
    "```python\n",
    "len(my_list)```\n",
    "The word types of a text, also called the vocabulary of a text is the list of words, that contain all the words of the given text but no duplicates. We can calculate the vocabulary of a text using the following method:\n",
    "```python\n",
    "set(my_list)```"
   ]
  },
  {
   "cell_type": "code",
   "execution_count": 9,
   "metadata": {},
   "outputs": [
    {
     "name": "stdout",
     "output_type": "stream",
     "text": [
      "Number of word tokens in 'austen-persuasion.txt' = 98171\n",
      "Number of word types in 'austen-persuasion.txt' = 6132\n"
     ]
    }
   ],
   "source": [
    "file_id = 'austen-persuasion.txt'\n",
    "words = gutenberg.words(file_id)\n",
    "\n",
    "print(\"Number of word tokens in '\" + file_id + \"' = \" + str(len(words)))\n",
    "print(\"Number of word types in '\" + file_id + \"' = \" + str(len(set(words))))"
   ]
  },
  {
   "cell_type": "code",
   "execution_count": null,
   "metadata": {},
   "outputs": [],
   "source": []
  }
 ],
 "metadata": {
  "kernelspec": {
   "display_name": "Python 3",
   "language": "python",
   "name": "python3"
  },
  "language_info": {
   "codemirror_mode": {
    "name": "ipython",
    "version": 3
   },
   "file_extension": ".py",
   "mimetype": "text/x-python",
   "name": "python",
   "nbconvert_exporter": "python",
   "pygments_lexer": "ipython3",
   "version": "3.6.5"
  }
 },
 "nbformat": 4,
 "nbformat_minor": 2
}
